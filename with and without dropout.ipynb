{
  "nbformat": 4,
  "nbformat_minor": 0,
  "metadata": {
    "colab": {
      "name": "Dropout_and_Validation.ipynb",
      "version": "0.3.2",
      "provenance": [],
      "collapsed_sections": [],
      "include_colab_link": true
    },
    "kernelspec": {
      "name": "python3",
      "display_name": "Python 3"
    },
    "accelerator": "GPU"
  },
  "cells": [
    {
      "cell_type": "markdown",
      "metadata": {
        "id": "view-in-github",
        "colab_type": "text"
      },
      "source": [
        "<a href=\"https://colab.research.google.com/github/deepanshgoyal33/dl_models_implementations/blob/master/with%20and%20without%20dropout.ipynb\" target=\"_parent\"><img src=\"https://colab.research.google.com/assets/colab-badge.svg\" alt=\"Open In Colab\"/></a>"
      ]
    },
    {
      "cell_type": "code",
      "metadata": {
        "id": "A73Pl7lhoJIZ",
        "colab_type": "code",
        "outputId": "d1a992c8-8ae7-4574-98d5-9a39be9db7ef",
        "colab": {
          "base_uri": "https://localhost:8080/",
          "height": 295
        }
      },
      "source": [
        "import torch\n",
        "from torchvision import datasets, transforms\n",
        "\n",
        "\n",
        "transform = transforms.Compose([transforms.ToTensor(),\n",
        "                                transforms.Normalize((0.5,), (0.5,))])\n",
        "\n",
        "trainset = datasets.FashionMNIST('~/.pytorch/F_MNIST_data/', download=True, train=True, transform=transform)\n",
        "trainloader = torch.utils.data.DataLoader(trainset, batch_size=64, shuffle=True)\n",
        "\n",
        "testset = datasets.FashionMNIST('~/.pytorch/F_MNIST_data/', download=True, train=False, transform=transform)\n",
        "testloader = torch.utils.data.DataLoader(testset, batch_size=64, shuffle=True)"
      ],
      "execution_count": 0,
      "outputs": [
        {
          "output_type": "stream",
          "text": [
            "  0%|          | 0/26421880 [00:00<?, ?it/s]"
          ],
          "name": "stderr"
        },
        {
          "output_type": "stream",
          "text": [
            "Downloading http://fashion-mnist.s3-website.eu-central-1.amazonaws.com/train-images-idx3-ubyte.gz to /root/.pytorch/F_MNIST_data/FashionMNIST/raw/train-images-idx3-ubyte.gz\n"
          ],
          "name": "stdout"
        },
        {
          "output_type": "stream",
          "text": [
            "26427392it [00:00, 71292733.36it/s]                              \n"
          ],
          "name": "stderr"
        },
        {
          "output_type": "stream",
          "text": [
            "Extracting /root/.pytorch/F_MNIST_data/FashionMNIST/raw/train-images-idx3-ubyte.gz\n"
          ],
          "name": "stdout"
        },
        {
          "output_type": "stream",
          "text": [
            "32768it [00:00, 564811.43it/s]\n",
            "  5%|▍         | 212992/4422102 [00:00<00:02, 2082476.35it/s]"
          ],
          "name": "stderr"
        },
        {
          "output_type": "stream",
          "text": [
            "Downloading http://fashion-mnist.s3-website.eu-central-1.amazonaws.com/train-labels-idx1-ubyte.gz to /root/.pytorch/F_MNIST_data/FashionMNIST/raw/train-labels-idx1-ubyte.gz\n",
            "Extracting /root/.pytorch/F_MNIST_data/FashionMNIST/raw/train-labels-idx1-ubyte.gz\n",
            "Downloading http://fashion-mnist.s3-website.eu-central-1.amazonaws.com/t10k-images-idx3-ubyte.gz to /root/.pytorch/F_MNIST_data/FashionMNIST/raw/t10k-images-idx3-ubyte.gz\n"
          ],
          "name": "stdout"
        },
        {
          "output_type": "stream",
          "text": [
            "4423680it [00:00, 27198439.59it/s]                           \n",
            "8192it [00:00, 123934.10it/s]\n"
          ],
          "name": "stderr"
        },
        {
          "output_type": "stream",
          "text": [
            "Extracting /root/.pytorch/F_MNIST_data/FashionMNIST/raw/t10k-images-idx3-ubyte.gz\n",
            "Downloading http://fashion-mnist.s3-website.eu-central-1.amazonaws.com/t10k-labels-idx1-ubyte.gz to /root/.pytorch/F_MNIST_data/FashionMNIST/raw/t10k-labels-idx1-ubyte.gz\n",
            "Extracting /root/.pytorch/F_MNIST_data/FashionMNIST/raw/t10k-labels-idx1-ubyte.gz\n",
            "Processing...\n",
            "Done!\n"
          ],
          "name": "stdout"
        }
      ]
    },
    {
      "cell_type": "code",
      "metadata": {
        "id": "wWySBu10pP59",
        "colab_type": "code",
        "colab": {}
      },
      "source": [
        "  from torch import nn,optim\n",
        "  import torch.nn.functional as F\n",
        "  \n",
        "  class Classifier(nn.Module):\n",
        "    def __init__(self):\n",
        "      super().__init__()\n",
        "      self.fc1 = nn.Linear(784,256)\n",
        "      self.fc2 = nn.Linear(256,128)\n",
        "      self.fc3 = nn.Linear(128,64)\n",
        "      self.fc4 = nn.Linear(64,10)\n",
        "      \n",
        "    def forward(self,x):\n",
        "      x = x.view(x.shape[0],-1)\n",
        "      x = F.relu(self.fc1(x))\n",
        "      x = F.relu(self.fc2(x))\n",
        "      x = F.relu(self.fc3(x))\n",
        "      x = F.log_softmax(self.fc4(x), dim = 1)\n",
        "      \n",
        "      return x"
      ],
      "execution_count": 0,
      "outputs": []
    },
    {
      "cell_type": "code",
      "metadata": {
        "id": "tVG3MMYdsNWm",
        "colab_type": "code",
        "colab": {}
      },
      "source": [
        "model = Classifier()"
      ],
      "execution_count": 0,
      "outputs": []
    },
    {
      "cell_type": "code",
      "metadata": {
        "id": "3_nqfl_ZtQ7M",
        "colab_type": "code",
        "colab": {}
      },
      "source": [
        "ps = torch.exp(model(testimages))"
      ],
      "execution_count": 0,
      "outputs": []
    },
    {
      "cell_type": "code",
      "metadata": {
        "id": "qAS8tccttgmR",
        "colab_type": "code",
        "outputId": "f3428faa-7daa-4b5f-c42e-e81c34246d9c",
        "colab": {
          "base_uri": "https://localhost:8080/",
          "height": 34
        }
      },
      "source": [
        "print(ps.shape)"
      ],
      "execution_count": 0,
      "outputs": [
        {
          "output_type": "stream",
          "text": [
            "torch.Size([64, 10])\n"
          ],
          "name": "stdout"
        }
      ]
    },
    {
      "cell_type": "code",
      "metadata": {
        "id": "0hqHVFVjtotT",
        "colab_type": "code",
        "outputId": "d5a06da5-8fe9-450f-f499-ba153202db92",
        "colab": {
          "base_uri": "https://localhost:8080/",
          "height": 2240
        }
      },
      "source": [
        "print(ps)"
      ],
      "execution_count": 0,
      "outputs": [
        {
          "output_type": "stream",
          "text": [
            "tensor([[0.1003, 0.0904, 0.0854, 0.1007, 0.1034, 0.0900, 0.0979, 0.1183, 0.1129,\n",
            "         0.1006],\n",
            "        [0.1030, 0.0891, 0.0885, 0.1016, 0.1004, 0.0913, 0.0992, 0.1144, 0.1105,\n",
            "         0.1020],\n",
            "        [0.1017, 0.0880, 0.0870, 0.0991, 0.1015, 0.0893, 0.0978, 0.1214, 0.1124,\n",
            "         0.1018],\n",
            "        [0.0995, 0.0884, 0.0835, 0.1003, 0.1035, 0.0906, 0.0997, 0.1220, 0.1132,\n",
            "         0.0993],\n",
            "        [0.0999, 0.0894, 0.0865, 0.0998, 0.1012, 0.0908, 0.0990, 0.1202, 0.1130,\n",
            "         0.1001],\n",
            "        [0.1008, 0.0872, 0.0861, 0.1022, 0.1043, 0.0926, 0.1000, 0.1165, 0.1074,\n",
            "         0.1030],\n",
            "        [0.1004, 0.0894, 0.0862, 0.1023, 0.1045, 0.0907, 0.0988, 0.1168, 0.1095,\n",
            "         0.1014],\n",
            "        [0.1014, 0.0886, 0.0877, 0.1021, 0.1004, 0.0924, 0.0997, 0.1163, 0.1081,\n",
            "         0.1031],\n",
            "        [0.1016, 0.0895, 0.0859, 0.1012, 0.1020, 0.0934, 0.1010, 0.1161, 0.1079,\n",
            "         0.1014],\n",
            "        [0.1009, 0.0899, 0.0840, 0.1005, 0.1022, 0.0915, 0.1009, 0.1182, 0.1106,\n",
            "         0.1012],\n",
            "        [0.0986, 0.0897, 0.0852, 0.0990, 0.1049, 0.0897, 0.1028, 0.1173, 0.1121,\n",
            "         0.1007],\n",
            "        [0.1021, 0.0896, 0.0903, 0.1023, 0.1014, 0.0917, 0.0981, 0.1127, 0.1092,\n",
            "         0.1027],\n",
            "        [0.1034, 0.0880, 0.0883, 0.1010, 0.1011, 0.0913, 0.0988, 0.1143, 0.1104,\n",
            "         0.1034],\n",
            "        [0.1015, 0.0932, 0.0873, 0.0992, 0.1017, 0.0920, 0.0984, 0.1136, 0.1097,\n",
            "         0.1034],\n",
            "        [0.0992, 0.0925, 0.0847, 0.0998, 0.1024, 0.0908, 0.1029, 0.1160, 0.1112,\n",
            "         0.1004],\n",
            "        [0.1002, 0.0871, 0.0899, 0.1024, 0.1054, 0.0915, 0.0956, 0.1173, 0.1089,\n",
            "         0.1017],\n",
            "        [0.1000, 0.0870, 0.0863, 0.1011, 0.1045, 0.0914, 0.0980, 0.1189, 0.1083,\n",
            "         0.1046],\n",
            "        [0.1031, 0.0901, 0.0893, 0.1012, 0.1021, 0.0909, 0.0971, 0.1143, 0.1100,\n",
            "         0.1020],\n",
            "        [0.1002, 0.0893, 0.0845, 0.0997, 0.1039, 0.0909, 0.0993, 0.1188, 0.1119,\n",
            "         0.1016],\n",
            "        [0.1006, 0.0914, 0.0874, 0.1013, 0.1026, 0.0902, 0.1006, 0.1147, 0.1084,\n",
            "         0.1028],\n",
            "        [0.1005, 0.0893, 0.0900, 0.1018, 0.1017, 0.0879, 0.0965, 0.1149, 0.1137,\n",
            "         0.1038],\n",
            "        [0.1003, 0.0888, 0.0846, 0.1007, 0.1070, 0.0901, 0.1003, 0.1174, 0.1084,\n",
            "         0.1024],\n",
            "        [0.1029, 0.0869, 0.0892, 0.0977, 0.1026, 0.0875, 0.0983, 0.1196, 0.1106,\n",
            "         0.1047],\n",
            "        [0.1042, 0.0887, 0.0879, 0.1014, 0.1000, 0.0875, 0.0970, 0.1192, 0.1140,\n",
            "         0.1001],\n",
            "        [0.1024, 0.0881, 0.0849, 0.1004, 0.1034, 0.0890, 0.1006, 0.1208, 0.1124,\n",
            "         0.0979],\n",
            "        [0.0995, 0.0892, 0.0903, 0.1008, 0.1014, 0.0914, 0.0988, 0.1164, 0.1099,\n",
            "         0.1023],\n",
            "        [0.1021, 0.0901, 0.0867, 0.0981, 0.1030, 0.0893, 0.0995, 0.1173, 0.1119,\n",
            "         0.1020],\n",
            "        [0.1027, 0.0905, 0.0832, 0.1020, 0.1040, 0.0927, 0.1016, 0.1130, 0.1086,\n",
            "         0.1018],\n",
            "        [0.0986, 0.0909, 0.0858, 0.0995, 0.1035, 0.0897, 0.1016, 0.1184, 0.1118,\n",
            "         0.1002],\n",
            "        [0.1032, 0.0864, 0.0887, 0.1014, 0.1007, 0.0873, 0.0977, 0.1194, 0.1133,\n",
            "         0.1019],\n",
            "        [0.1017, 0.0889, 0.0857, 0.0986, 0.1018, 0.0889, 0.1019, 0.1187, 0.1141,\n",
            "         0.0996],\n",
            "        [0.1014, 0.0889, 0.0902, 0.1025, 0.1012, 0.0879, 0.0970, 0.1170, 0.1117,\n",
            "         0.1022],\n",
            "        [0.1034, 0.0889, 0.0863, 0.0992, 0.1011, 0.0888, 0.0997, 0.1188, 0.1148,\n",
            "         0.0989],\n",
            "        [0.1024, 0.0897, 0.0880, 0.1022, 0.1017, 0.0915, 0.0985, 0.1152, 0.1096,\n",
            "         0.1012],\n",
            "        [0.1027, 0.0891, 0.0858, 0.1001, 0.1019, 0.0888, 0.0992, 0.1208, 0.1123,\n",
            "         0.0992],\n",
            "        [0.1016, 0.0879, 0.0897, 0.1030, 0.1015, 0.0894, 0.0964, 0.1159, 0.1117,\n",
            "         0.1029],\n",
            "        [0.1025, 0.0904, 0.0908, 0.1025, 0.1004, 0.0903, 0.0982, 0.1117, 0.1106,\n",
            "         0.1027],\n",
            "        [0.1000, 0.0897, 0.0845, 0.1011, 0.1052, 0.0891, 0.1012, 0.1176, 0.1100,\n",
            "         0.1015],\n",
            "        [0.1022, 0.0881, 0.0852, 0.1037, 0.1017, 0.0930, 0.1000, 0.1154, 0.1086,\n",
            "         0.1022],\n",
            "        [0.0996, 0.0890, 0.0841, 0.1006, 0.1068, 0.0887, 0.1017, 0.1179, 0.1116,\n",
            "         0.0997],\n",
            "        [0.1036, 0.0869, 0.0873, 0.0998, 0.1022, 0.0891, 0.0986, 0.1182, 0.1114,\n",
            "         0.1028],\n",
            "        [0.1024, 0.0895, 0.0850, 0.1009, 0.1018, 0.0902, 0.1005, 0.1188, 0.1097,\n",
            "         0.1012],\n",
            "        [0.1000, 0.0893, 0.0837, 0.1020, 0.1020, 0.0919, 0.1005, 0.1166, 0.1102,\n",
            "         0.1037],\n",
            "        [0.0991, 0.0876, 0.0873, 0.1019, 0.1029, 0.0896, 0.0989, 0.1189, 0.1130,\n",
            "         0.1009],\n",
            "        [0.0969, 0.0875, 0.0845, 0.0994, 0.1085, 0.0886, 0.1021, 0.1205, 0.1128,\n",
            "         0.0991],\n",
            "        [0.1021, 0.0890, 0.0873, 0.1046, 0.1022, 0.0875, 0.0987, 0.1161, 0.1114,\n",
            "         0.1011],\n",
            "        [0.1032, 0.0886, 0.0889, 0.1031, 0.1009, 0.0898, 0.0995, 0.1115, 0.1107,\n",
            "         0.1038],\n",
            "        [0.1006, 0.0892, 0.0897, 0.1029, 0.1017, 0.0898, 0.0967, 0.1149, 0.1112,\n",
            "         0.1032],\n",
            "        [0.1038, 0.0890, 0.0868, 0.1004, 0.1012, 0.0884, 0.0992, 0.1153, 0.1128,\n",
            "         0.1031],\n",
            "        [0.0998, 0.0875, 0.0874, 0.1008, 0.1023, 0.0877, 0.0974, 0.1200, 0.1165,\n",
            "         0.1005],\n",
            "        [0.0991, 0.0887, 0.0859, 0.1003, 0.1022, 0.0903, 0.0988, 0.1197, 0.1128,\n",
            "         0.1022],\n",
            "        [0.1006, 0.0907, 0.0834, 0.1010, 0.1042, 0.0914, 0.1001, 0.1166, 0.1107,\n",
            "         0.1012],\n",
            "        [0.1005, 0.0896, 0.0854, 0.1001, 0.1051, 0.0908, 0.1008, 0.1163, 0.1088,\n",
            "         0.1027],\n",
            "        [0.1026, 0.0880, 0.0843, 0.0997, 0.1037, 0.0897, 0.1017, 0.1176, 0.1110,\n",
            "         0.1016],\n",
            "        [0.1013, 0.0874, 0.0889, 0.1010, 0.1030, 0.0894, 0.0971, 0.1170, 0.1124,\n",
            "         0.1025],\n",
            "        [0.1006, 0.0898, 0.0837, 0.0997, 0.1050, 0.0905, 0.1004, 0.1195, 0.1093,\n",
            "         0.1014],\n",
            "        [0.1025, 0.0862, 0.0867, 0.1020, 0.1001, 0.0874, 0.0965, 0.1233, 0.1136,\n",
            "         0.1017],\n",
            "        [0.1010, 0.0865, 0.0866, 0.0996, 0.1013, 0.0889, 0.0981, 0.1248, 0.1144,\n",
            "         0.0988],\n",
            "        [0.1016, 0.0899, 0.0861, 0.1048, 0.1005, 0.0881, 0.0981, 0.1183, 0.1125,\n",
            "         0.1001],\n",
            "        [0.1038, 0.0900, 0.0863, 0.0972, 0.1017, 0.0928, 0.1004, 0.1183, 0.1086,\n",
            "         0.1008],\n",
            "        [0.1016, 0.0901, 0.0881, 0.1019, 0.0993, 0.0904, 0.0975, 0.1167, 0.1129,\n",
            "         0.1016],\n",
            "        [0.1007, 0.0919, 0.0826, 0.1008, 0.1029, 0.0931, 0.0990, 0.1164, 0.1119,\n",
            "         0.1008],\n",
            "        [0.1004, 0.0902, 0.0850, 0.1015, 0.1050, 0.0904, 0.0998, 0.1153, 0.1103,\n",
            "         0.1020],\n",
            "        [0.0994, 0.0890, 0.0852, 0.0991, 0.1066, 0.0901, 0.1014, 0.1191, 0.1082,\n",
            "         0.1018]], grad_fn=<ExpBackward>)\n"
          ],
          "name": "stdout"
        }
      ]
    },
    {
      "cell_type": "code",
      "metadata": {
        "id": "kik3vw6gtsEg",
        "colab_type": "code",
        "outputId": "105916d8-5a3f-4100-c319-6ac45800093e",
        "colab": {
          "base_uri": "https://localhost:8080/",
          "height": 191
        }
      },
      "source": [
        "top_p , top_class = ps.topk(1,dim=1)\n",
        "print(top_class[:10,:])"
      ],
      "execution_count": 0,
      "outputs": [
        {
          "output_type": "stream",
          "text": [
            "tensor([[7],\n",
            "        [7],\n",
            "        [7],\n",
            "        [7],\n",
            "        [7],\n",
            "        [7],\n",
            "        [7],\n",
            "        [7],\n",
            "        [7],\n",
            "        [7]])\n"
          ],
          "name": "stdout"
        }
      ]
    },
    {
      "cell_type": "code",
      "metadata": {
        "id": "n-hNVyn0vi-w",
        "colab_type": "code",
        "colab": {}
      },
      "source": [
        "equals = top_class == testlabels.view(*top_class.shape)"
      ],
      "execution_count": 0,
      "outputs": []
    },
    {
      "cell_type": "code",
      "metadata": {
        "id": "AI7RlWwQxFG4",
        "colab_type": "code",
        "outputId": "c473eb65-7ec6-4d56-e344-c48fdd9d1b03",
        "colab": {
          "base_uri": "https://localhost:8080/",
          "height": 34
        }
      },
      "source": [
        "equals.shape"
      ],
      "execution_count": 0,
      "outputs": [
        {
          "output_type": "execute_result",
          "data": {
            "text/plain": [
              "torch.Size([64, 1])"
            ]
          },
          "metadata": {
            "tags": []
          },
          "execution_count": 11
        }
      ]
    },
    {
      "cell_type": "code",
      "metadata": {
        "id": "QQjBMab_xGpv",
        "colab_type": "code",
        "colab": {}
      },
      "source": [
        "accuracy = torch.mean(equals.type(torch.FloatTensor))"
      ],
      "execution_count": 0,
      "outputs": []
    },
    {
      "cell_type": "code",
      "metadata": {
        "id": "OjiBQFeSxgYh",
        "colab_type": "code",
        "outputId": "91c40660-3e0e-4464-e37e-427cdf49cfca",
        "colab": {
          "base_uri": "https://localhost:8080/",
          "height": 34
        }
      },
      "source": [
        "accuracy.item()"
      ],
      "execution_count": 0,
      "outputs": [
        {
          "output_type": "execute_result",
          "data": {
            "text/plain": [
              "0.0625"
            ]
          },
          "metadata": {
            "tags": []
          },
          "execution_count": 14
        }
      ]
    },
    {
      "cell_type": "code",
      "metadata": {
        "id": "-WA-tE5hxrCH",
        "colab_type": "code",
        "outputId": "8d3cf220-ce00-432d-d91f-eae0d4f42599",
        "colab": {
          "base_uri": "https://localhost:8080/",
          "height": 34
        }
      },
      "source": [
        "\n",
        "testimages.shape"
      ],
      "execution_count": 0,
      "outputs": [
        {
          "output_type": "execute_result",
          "data": {
            "text/plain": [
              "torch.Size([64, 1, 28, 28])"
            ]
          },
          "metadata": {
            "tags": []
          },
          "execution_count": 15
        }
      ]
    },
    {
      "cell_type": "code",
      "metadata": {
        "id": "kEDyUK3kmNTk",
        "colab_type": "code",
        "colab": {}
      },
      "source": [
        "%matplotlib inline\n",
        "%config InlineBackend.figure_format = 'retina'\n",
        "\n",
        "import matplotlib.pyplot as plt"
      ],
      "execution_count": 0,
      "outputs": []
    },
    {
      "cell_type": "code",
      "metadata": {
        "id": "FzgdLYhNmbPf",
        "colab_type": "code",
        "outputId": "7a685a50-8d37-4dcb-bc03-bf493197d987",
        "colab": {
          "base_uri": "https://localhost:8080/",
          "height": 284
        }
      },
      "source": [
        "plt.plot(train_losses, label='Training loss')\n",
        "plt.plot(test_losses, label='Validation loss')\n",
        "plt.legend(frameon=False)"
      ],
      "execution_count": 0,
      "outputs": [
        {
          "output_type": "execute_result",
          "data": {
            "text/plain": [
              "<matplotlib.legend.Legend at 0x7f5fec95f278>"
            ]
          },
          "metadata": {
            "tags": []
          },
          "execution_count": 21
        },
        {
          "output_type": "display_data",
          "data": {
            "image/png": "[encoded data removed]",
            "text/plain": [
              "<Figure size 432x288 with 1 Axes>"
            ]
          },
          "metadata": {
            "tags": [],
            "image/png": {
              "width": 380,
              "height": 250
            }
          }
        }
      ]
    },
    {
      "cell_type": "code",
      "metadata": {
        "id": "SSL7P9BXmzlk",
        "colab_type": "code",
        "colab": {}
      },
      "source": [
        "class classifier(nn.Module):\n",
        "  def __init__(self):\n",
        "    super().__init__()\n",
        "    self.fc1 = nn.Linear(784,256)\n",
        "    self.fc2 = nn.Linear(256,128)\n",
        "    self.fc3 = nn.Linear(128,64)\n",
        "    self.fc4 = nn.Linear(64,10)\n",
        "    \n",
        "    self.dropout = nn.Dropout(p=0.2)\n",
        "    \n",
        "  def forward(self, x):\n",
        "    x = x.view(x.shape[0], -1)\n",
        "    x = self.dropout(F.relu(self.fc1(x)))\n",
        "    x = self.dropout(F.relu(self.fc2(x)))\n",
        "    x = self.dropout(F.relu(self.fc3(x)))\n",
        "    x = F.log_softmax(self.fc4(x),dim=1)\n",
        "                     \n",
        "    return x"
      ],
      "execution_count": 0,
      "outputs": []
    },
    {
      "cell_type": "code",
      "metadata": {
        "id": "EGSkFp_DpunK",
        "colab_type": "code",
        "outputId": "b78026cb-0502-4956-eb7e-334102f9b2f4",
        "colab": {
          "base_uri": "https://localhost:8080/",
          "height": 569
        }
      },
      "source": [
        "model = classifier()\n",
        "criterion = nn.NLLLoss()\n",
        "optimizer = optim.Adam(model.parameters(), lr=0.003)\n",
        "\n",
        "epochs = 30\n",
        "steps = 0\n",
        "\n",
        "train_losses, test_losses = [], []\n",
        "for e in range(epochs):\n",
        "    running_loss = 0\n",
        "    for images, labels in trainloader:\n",
        "        \n",
        "        optimizer.zero_grad()\n",
        "        \n",
        "        log_ps = model(images)\n",
        "        loss = criterion(log_ps, labels)\n",
        "        loss.backward()\n",
        "        optimizer.step()\n",
        "        \n",
        "        running_loss += loss.item()\n",
        "        \n",
        "    else:\n",
        "        test_loss = 0\n",
        "        accuracy = 0\n",
        "        \n",
        "        # Turn off gradients for validation, saves memory and computations\n",
        "        with torch.no_grad():\n",
        "            model.eval()\n",
        "            for images, labels in testloader:\n",
        "                log_ps = model(images)\n",
        "                test_loss += criterion(log_ps, labels)\n",
        "                \n",
        "                ps = torch.exp(log_ps)\n",
        "                top_p, top_class = ps.topk(1, dim=1)\n",
        "                equals = top_class == labels.view(*top_class.shape)\n",
        "                accuracy += torch.mean(equals.type(torch.FloatTensor))\n",
        "        \n",
        "        model.train()\n",
        "        \n",
        "        train_losses.append(running_loss/len(trainloader))\n",
        "        test_losses.append(test_loss/len(testloader))\n",
        "\n",
        "        print(\"Epoch: {}/{}.. \".format(e+1, epochs),\n",
        "              \"Training Loss: {:.3f}.. \".format(train_losses[-1]),\n",
        "              \"Test Loss: {:.3f}.. \".format(test_losses[-1]),\n",
        "              \"Test Accuracy: {:.3f}\".format(accuracy/len(testloader)))"
      ],
      "execution_count": 10,
      "outputs": [
        {
          "output_type": "stream",
          "text": [
            "Epoch: 1/30..  Training Loss: 0.605..  Test Loss: 0.479..  Test Accuracy: 0.828\n",
            "Epoch: 2/30..  Training Loss: 0.483..  Test Loss: 0.430..  Test Accuracy: 0.842\n",
            "Epoch: 3/30..  Training Loss: 0.459..  Test Loss: 0.431..  Test Accuracy: 0.843\n",
            "Epoch: 4/30..  Training Loss: 0.432..  Test Loss: 0.429..  Test Accuracy: 0.849\n",
            "Epoch: 5/30..  Training Loss: 0.428..  Test Loss: 0.402..  Test Accuracy: 0.860\n",
            "Epoch: 6/30..  Training Loss: 0.411..  Test Loss: 0.392..  Test Accuracy: 0.855\n",
            "Epoch: 7/30..  Training Loss: 0.406..  Test Loss: 0.423..  Test Accuracy: 0.860\n",
            "Epoch: 8/30..  Training Loss: 0.399..  Test Loss: 0.422..  Test Accuracy: 0.857\n",
            "Epoch: 9/30..  Training Loss: 0.395..  Test Loss: 0.389..  Test Accuracy: 0.864\n",
            "Epoch: 10/30..  Training Loss: 0.388..  Test Loss: 0.380..  Test Accuracy: 0.867\n",
            "Epoch: 11/30..  Training Loss: 0.389..  Test Loss: 0.373..  Test Accuracy: 0.866\n",
            "Epoch: 12/30..  Training Loss: 0.378..  Test Loss: 0.381..  Test Accuracy: 0.867\n",
            "Epoch: 13/30..  Training Loss: 0.382..  Test Loss: 0.388..  Test Accuracy: 0.864\n",
            "Epoch: 14/30..  Training Loss: 0.379..  Test Loss: 0.385..  Test Accuracy: 0.870\n",
            "Epoch: 15/30..  Training Loss: 0.372..  Test Loss: 0.381..  Test Accuracy: 0.869\n",
            "Epoch: 16/30..  Training Loss: 0.371..  Test Loss: 0.389..  Test Accuracy: 0.868\n",
            "Epoch: 17/30..  Training Loss: 0.378..  Test Loss: 0.389..  Test Accuracy: 0.865\n",
            "Epoch: 18/30..  Training Loss: 0.363..  Test Loss: 0.381..  Test Accuracy: 0.868\n",
            "Epoch: 19/30..  Training Loss: 0.363..  Test Loss: 0.369..  Test Accuracy: 0.870\n",
            "Epoch: 20/30..  Training Loss: 0.360..  Test Loss: 0.394..  Test Accuracy: 0.866\n",
            "Epoch: 21/30..  Training Loss: 0.359..  Test Loss: 0.369..  Test Accuracy: 0.872\n",
            "Epoch: 22/30..  Training Loss: 0.352..  Test Loss: 0.387..  Test Accuracy: 0.869\n",
            "Epoch: 23/30..  Training Loss: 0.359..  Test Loss: 0.386..  Test Accuracy: 0.870\n",
            "Epoch: 24/30..  Training Loss: 0.352..  Test Loss: 0.381..  Test Accuracy: 0.871\n",
            "Epoch: 25/30..  Training Loss: 0.349..  Test Loss: 0.383..  Test Accuracy: 0.871\n",
            "Epoch: 26/30..  Training Loss: 0.347..  Test Loss: 0.387..  Test Accuracy: 0.866\n",
            "Epoch: 27/30..  Training Loss: 0.342..  Test Loss: 0.361..  Test Accuracy: 0.875\n",
            "Epoch: 28/30..  Training Loss: 0.347..  Test Loss: 0.389..  Test Accuracy: 0.866\n",
            "Epoch: 29/30..  Training Loss: 0.347..  Test Loss: 0.366..  Test Accuracy: 0.877\n",
            "Epoch: 30/30..  Training Loss: 0.341..  Test Loss: 0.401..  Test Accuracy: 0.867\n"
          ],
          "name": "stdout"
        }
      ]
    },
    {
      "cell_type": "code",
      "metadata": {
        "id": "wVVHh_ZZqXu1",
        "colab_type": "code",
        "colab": {
          "base_uri": "https://localhost:8080/",
          "height": 35
        },
        "outputId": "589545c7-5579-48d3-9d44-9d733992a5fc"
      },
      "source": [
        "images.shape"
      ],
      "execution_count": 11,
      "outputs": [
        {
          "output_type": "execute_result",
          "data": {
            "text/plain": [
              "torch.Size([16, 1, 28, 28])"
            ]
          },
          "metadata": {
            "tags": []
          },
          "execution_count": 11
        }
      ]
    },
    {
      "cell_type": "code",
      "metadata": {
        "id": "cttc3H14DIpP",
        "colab_type": "code",
        "colab": {
          "base_uri": "https://localhost:8080/",
          "height": 35
        },
        "outputId": "589e8d91-e103-45c9-a82d-11898cb081b9"
      },
      "source": [
        "trainloader"
      ],
      "execution_count": 13,
      "outputs": [
        {
          "output_type": "execute_result",
          "data": {
            "text/plain": [
              "<torch.utils.data.dataloader.DataLoader at 0x7f0ca8b05f60>"
            ]
          },
          "metadata": {
            "tags": []
          },
          "execution_count": 13
        }
      ]
    },
    {
      "cell_type": "code",
      "metadata": {
        "id": "-25Np6XoDSJk",
        "colab_type": "code",
        "colab": {}
      },
      "source": [
        " %matplotlib inline \n",
        " %config InlineBackend.figure_format ='retina'\n",
        " import matplotlib.pyplot as plt "
      ],
      "execution_count": 0,
      "outputs": []
    },
    {
      "cell_type": "code",
      "metadata": {
        "id": "pV3ISnruFT2_",
        "colab_type": "code",
        "colab": {
          "base_uri": "https://localhost:8080/",
          "height": 285
        },
        "outputId": "02224f04-ae4e-4e02-f664-56a704f027b1"
      },
      "source": [
        "plt.plot(train_losses,label = 'training loss')\n",
        "plt.plot(test_losses, label='test loss')\n",
        "plt.legend(frameon = False)"
      ],
      "execution_count": 15,
      "outputs": [
        {
          "output_type": "execute_result",
          "data": {
            "text/plain": [
              "<matplotlib.legend.Legend at 0x7f0ca8b051d0>"
            ]
          },
          "metadata": {
            "tags": []
          },
          "execution_count": 15
        },
        {
          "output_type": "display_data",
          "data": {
            "image/png": "[encoded data removed]",
            "text/plain": [
              "<Figure size 432x288 with 1 Axes>"
            ]
          },
          "metadata": {
            "tags": [],
            "image/png": {
              "width": 380,
              "height": 250
            }
          }
        }
      ]
    },
    {
      "cell_type": "code",
      "metadata": {
        "id": "u8ThRUoEFpx8",
        "colab_type": "code",
        "colab": {}
      },
      "source": [
        ""
      ],
      "execution_count": 0,
      "outputs": []
    }
  ]
}